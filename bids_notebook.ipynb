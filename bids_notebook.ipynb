{
 "cells": [
  {
   "cell_type": "markdown",
   "metadata": {},
   "source": [
    "## <font color=\"#0F1518\">Government procurement in Argentina</font>      \n",
    "    \n",
    "    \n",
    "    \n",
    "Institutional transparency is key in the wellbeing of a country. Governments need to be accountable for what how they operate, and the people have the right to know what is being done with the trust they have placed in their leaders. Acording to the estimates of Transparency International, a non profit organization that measures levels of corruption across multiple countries, 56% of their surveyed think that government officials are involved in corruption, a feeling that aparently is on the rise (https://www.transparency.org/en/gcb/latin-america/latin-america-and-the-caribbean-x-edition-2019/results/arg).  \n",
    "\n",
    "Argentines certainly care about corruption, sometimes it seems that there is some degree of complecency towards it. This can be exemplified with the following fact: In the 2019 presidential elections, the successful formula was the one in which the vicepresident was Cristina Fernández de Kirchner, who has been involved in numerous corruption scandals in the recent past, and has even been indicted on treason charges just two years prior.\n",
    "\n",
    "One of the most known forms of lack of transparency can be found in government procurement. It is no secret that this is fertile ground for all kinds of corrupt activities, where until not so long ago and, in many entities, this processes where not even computerized. This, for obvious reasons, crippled any possibility of serious external auditing. One may argue that the information is still available in paper format. Only that consulting a large quantity of files, guaranteing enough data that could lead to meaningfull analysis, is a feat too heavy to pursue. Even more when having to make way though missing documents and, above all, when having to deal with argentina bureaucracy. Fortunatelly, nowadays there are fully functional websites where citizens can access public information related to government bids. One example is \"https://www.comprar.gob.ar\", a website managed by the National Procuremente Office, which in turn operates in the realm of the Chief of the Cabinet of Ministers. It replaced a previous version (https://www.argentinacompra.gov.ar/ ) which contains processes dating from 2001. This old site is far from perfect, and in too many cases fails to deliver relevant information about the winning offers. The new one is far more complete and will suit our purposes.\n",
    "\n",
    "Our interest in this project was aa unveiled corruption afair that took place in March of this year. Back then it was brough to light that the Ministry of Social Development, did millionaire food purchases for the most needed in order to alleviate the economic efects of quarantine. The problem here was not the actual purchase itself, which indeed was for a very noble purpose as Covid-19 was and still is taking a tall on society. The issue was that this purchases were done by paying, in several cases, more than a 50% overprice (https://elpais.com/internacional/2020-04-07/el-gobierno-argentino-paga-con-sobreprecios-alimentos-para-comedores-sociales.html). Even more worrying is the fact that this overprices exceeded by far the limit fixed by the very same government (yes, the one with the indicted vicepresident) for consumers. And to top it up, the first response from the president was to put the blame on the actual providers. As expected, this had no mayor repercusions.\n",
    "\n",
    "So taking all this into consideration, it would be very rewarding to take at least a small grasp into the recent purchase history of governmental entities, and see if we can reveal any hidden patterns."
   ]
  }
 ],
 "metadata": {
  "hide_input": false,
  "kernelspec": {
   "display_name": "Python 3",
   "language": "python",
   "name": "python3"
  },
  "language_info": {
   "codemirror_mode": {
    "name": "ipython",
    "version": 3
   },
   "file_extension": ".py",
   "mimetype": "text/x-python",
   "name": "python",
   "nbconvert_exporter": "python",
   "pygments_lexer": "ipython3",
   "version": "3.7.6"
  }
 },
 "nbformat": 4,
 "nbformat_minor": 4
}

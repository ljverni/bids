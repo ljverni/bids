{
 "cells": [
  {
   "cell_type": "markdown",
   "metadata": {},
   "source": [
    "Institutional transparency is key in the wellbeing of a country. Governments need to be accountable for what how they operate, and the people have the right to know what is being done with the trust they have placed in their leaders. \n",
    "\n",
    "transparency info\n",
    "https://www.transparency.org/en/gcb/latin-america/latin-america-and-the-caribbean-x-edition-2019/results/arg\n",
    "\n",
    "Although Argentines certainly care about corruption, it seems they have grown used to it. This can be exemplified with the following fact: In the 2019 presidential elections, the successful formula was the one in which the vicepresident was Cristina Fernández de Kirchner, who has been involved in numerous corruption scandals in the recent past, and has even been indicted on treason charges just two years prior.\n",
    "\n",
    "\n",
    "argentina compras\n",
    "\n",
    "What motivated this project was a clear corruption afail that took place in March of this year. Back then it was brough to light that the Ministry of Social Development, did millionaire food purchases for the most needed in order to alleviate the economic efects of quarantine. The problem here was not the actual purchase itself, which indeed was for a very noble purpose as Covid-19 was and still is taking a tall on society. The issue was that this purchases were done by paying, in several cases, more than a 50% overprice (https://elpais.com/internacional/2020-04-07/el-gobierno-argentino-paga-con-sobreprecios-alimentos-para-comedores-sociales.html). Even more worrying is the fact that this overprices exceeded by far the limit fixed by the very same government (yes, the one with the indicted vicepresident) for consumers. And to top it up, the first response from the president was to put the blame on the actual providers. As expected, this had no mayor repercusions.\n",
    "\n",
    "So taking all this into consideration, it would be very rewarding to at lease take a small grasp into the recent purchase history of governmental entities, and see if we can unveal any hidden patterns."
   ]
  }
 ],
 "metadata": {
  "hide_input": false,
  "kernelspec": {
   "display_name": "Python 3",
   "language": "python",
   "name": "python3"
  },
  "language_info": {
   "codemirror_mode": {
    "name": "ipython",
    "version": 3
   },
   "file_extension": ".py",
   "mimetype": "text/x-python",
   "name": "python",
   "nbconvert_exporter": "python",
   "pygments_lexer": "ipython3",
   "version": "3.7.6"
  }
 },
 "nbformat": 4,
 "nbformat_minor": 4
}
